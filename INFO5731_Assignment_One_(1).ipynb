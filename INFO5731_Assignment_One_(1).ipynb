{
  "cells": [
    {
      "cell_type": "markdown",
      "metadata": {
        "id": "view-in-github",
        "colab_type": "text"
      },
      "source": [
        "<a href=\"https://colab.research.google.com/github/MunnaGITAM/Rohit_INFO5731_SPRING2022/blob/main/INFO5731_Assignment_One_(1).ipynb\" target=\"_parent\"><img src=\"https://colab.research.google.com/assets/colab-badge.svg\" alt=\"Open In Colab\"/></a>"
      ]
    },
    {
      "cell_type": "markdown",
      "metadata": {
        "id": "Ryk8D1Q4Wsrp"
      },
      "source": [
        "# **INFO5731 Assignment One**"
      ]
    },
    {
      "cell_type": "markdown",
      "metadata": {
        "id": "90_NR8c5XGWc"
      },
      "source": [
        "# Question 1\n",
        "\n",
        "(20 points). Write a Python program to generate 12 random numbers between 1 and 100. Sort the list of numbers in ascending order and print it out. Sort the list of numbers in descending order and print it out. Calculate the average for the group and print it out."
      ]
    },
    {
      "cell_type": "code",
      "execution_count": null,
      "metadata": {
        "colab": {
          "base_uri": "https://localhost:8080/"
        },
        "id": "5QX6bJjGWXY9",
        "outputId": "a0aad1dc-e394-471f-87c5-555c1daf77e4"
      },
      "outputs": [
        {
          "output_type": "stream",
          "name": "stdout",
          "text": [
            "Random numbers generated:  [84, 76, 20, 31, 34, 87, 59, 33, 21, 39, 87, 77]\n",
            "list in Ascending order:  [20, 21, 31, 33, 34, 39, 59, 76, 77, 84, 87, 87]\n",
            "list in Descending order:  [87, 87, 84, 77, 76, 59, 39, 34, 33, 31, 21, 20]\n",
            "Average of the list :  54.0\n"
          ]
        }
      ],
      "source": [
        "# Your code here\n",
        "\n",
        "import random as s\n",
        "n=12\n",
        "l1=[]\n",
        "x=0\n",
        "for i in range(n):\n",
        "    x=s.randint(1,100)\n",
        "    l1.append(x)\n",
        "print(\"Random numbers generated: \", l1)\n",
        "l1.sort()\n",
        "print(\"list in Ascending order: \",l1)\n",
        "l1.sort(reverse=True)\n",
        "print(\"list in Descending order: \",l1)\n",
        "print(\"Average of the list : \",sum(l1)/n)"
      ]
    },
    {
      "cell_type": "markdown",
      "metadata": {
        "id": "1F_PZdH9Sh49"
      },
      "source": [
        "# Question 2\n",
        "(25 points). Write a program that will do the following string formatting tasks:\n",
        "\n",
        "(1) Ask the user to enter two sentences.\n",
        "\n",
        "(2) Make each sentence into a list. Each element in the list should correspond to a word in the sentence. For example, if the sentence is \"Alas! Am I alive? This is my first python program\", the program should print out ['Alas, '!', 'Am', 'I', 'alive, '?', 'This', 'is', 'my', 'first', 'python', 'program'].\n",
        "\n",
        "(3) Compare the two sentences. Print out a list of words that occur in both sentences.\n",
        "\n",
        "(4) Remove any punctuation from the sentence and print it back out. It should remove at least the following characters, but it can remove more: period(“.”), comma (“,”), semicolon (“;”), and colon (“:”)\n",
        "\n",
        "(5) Count the number of vowels in the sentences. Print out each vowel and the number of times it appears in the sentences, such as: a:2, e:1, i:0, etc"
      ]
    },
    {
      "cell_type": "code",
      "execution_count": null,
      "metadata": {
        "colab": {
          "base_uri": "https://localhost:8080/"
        },
        "id": "Y0oOSlsOS0cq",
        "outputId": "701cfd6a-3dc7-43e8-8b71-b69db0347848"
      },
      "outputs": [
        {
          "output_type": "stream",
          "name": "stdout",
          "text": [
            "Enter sentence1 : \"I LOVE TEXAS\"!\n",
            "Enter sentence2 : \"I LOVE UNT\"!\n",
            "The list of words for input 1 : ['\"', 'I', 'LOVE', 'TEXAS', '\"', '!']\n",
            "The list of words for input 2 : ['\"', 'I', 'LOVE', 'UNT', '\"', '!']\n",
            "common words :  {'I', '!', 'LOVE', '\"'}\n",
            "sentence1 after removing punctuations :  I LOVE TEXAS\n",
            "sentence2 after removing punctuations :  I LOVE UNT\n",
            "Number of vowels in sentence 1 :  {}\n",
            "Number of vowels in sentence 2 :  {}\n"
          ]
        }
      ],
      "source": [
        "# Your code here\n",
        "import re\n",
        "import string\n",
        "#question1\n",
        "sentence1 = input(\"Enter sentence1 : \")\n",
        "sentence2 = input(\"Enter sentence2 : \")\n",
        "#question2\n",
        "\n",
        "\n",
        "list1 = re.compile(r'\\w+|[^\\w\\s]').findall(sentence1)\n",
        "list2 = re.compile(r'\\w+|[^\\w\\s]').findall(sentence2)\n",
        "\n",
        "print(\"The list of words for input 1 :\",list1)\n",
        "print(\"The list of words for input 2 :\",list2)\n",
        "#q3\n",
        "\n",
        "print(\"common words : \", set(list1).intersection(set(list2)))\n",
        "#q4\n",
        "\n",
        "def remove_punctuation(ip):\n",
        "\n",
        "  return ip.translate(str.maketrans('','',string.punctuation))\n",
        "\n",
        "\n",
        "print(\"sentence1 after removing punctuations : \",remove_punctuation(sentence1))\n",
        "print(\"sentence2 after removing punctuations : \",remove_punctuation(sentence2))\n",
        "#q5\n",
        "def compute(ip):\n",
        "  vowels = \"a,e,i,o,u\"\n",
        "  list_vowels = vowels.split(\",\")\n",
        "  res = []\n",
        "  val = []\n",
        "  for i in list_vowels:\n",
        "    j = ip.count(i)\n",
        "    if(j>0):\n",
        "      res.append(i)\n",
        "      val.append(j)\n",
        "  return dict(zip(res,val))\n",
        "\n",
        "print(\"Number of vowels in sentence 1 : \",compute(sentence1))\n",
        "print(\"Number of vowels in sentence 2 : \",compute(sentence2))"
      ]
    },
    {
      "cell_type": "markdown",
      "metadata": {
        "id": "CmFoI4jDS9nx"
      },
      "source": [
        "# Question 3 \n",
        "\n",
        "(15 points). The formula that describes the volume V of a sphere with radius r is the following:\n",
        "\n",
        "$ V=\\frac{4}{3}\\ast\\ \\pi\\ast\\ r^3 $\n",
        "\n",
        "Write a program to calculate the value of V when r is in the range of 1–10. Output the result in the following format:\n",
        "\n",
        "\tr\tV\n",
        "\t1\t…\n",
        "\t2\t…\n",
        "\t3\t…\n"
      ]
    },
    {
      "cell_type": "code",
      "execution_count": null,
      "metadata": {
        "colab": {
          "base_uri": "https://localhost:8080/"
        },
        "id": "pEyqeioAT95b",
        "outputId": "e0944988-bfa3-4bcd-aaee-cf64f989dbf4"
      },
      "outputs": [
        {
          "output_type": "stream",
          "name": "stdout",
          "text": [
            "r  V\n",
            "1  4.19\n",
            "2  33.51\n",
            "3  113.1\n",
            "4  268.08\n",
            "5  523.6\n",
            "6  904.78\n",
            "7  1436.76\n",
            "8  2144.66\n",
            "9  3053.63\n",
            "10  4188.79\n"
          ]
        }
      ],
      "source": [
        "# Your code here\n",
        "import math\n",
        "pi=math.pi\n",
        "x=4/3\n",
        "print(\"r\"+\"  V\")\n",
        "for i in range(1,11):\n",
        "    r=i*i*i\n",
        "    v=x*pi*r\n",
        "    print(i,\"\",round(v,2))\n"
      ]
    },
    {
      "cell_type": "code",
      "execution_count": null,
      "metadata": {
        "id": "pMCr3l8tnu0j"
      },
      "outputs": [],
      "source": [
        ""
      ]
    },
    {
      "cell_type": "markdown",
      "metadata": {
        "id": "z3tBE7E-Xn5X"
      },
      "source": [
        "# Question 4\n",
        "\n",
        "(40 points). In the field of Data Science, data is often formatted as a comma-delimited (CSV) file, where each line in a file corresponds to a field's value. Refer to Chapter 9 (p. 106) for more information on comma-delimited files. To answer this question, you will need to download the file [Assignment1_denton_housing.csv](https://raw.githubusercontent.com/unt-iialab/info5731-spring2022/main/assignments/Assignment1_denton_housing.csv) included with this assignment. The file [Assignment1_denton_housing.csv](https://raw.githubusercontent.com/unt-iialab/info5731-spring2022/main/assignments/Assignment1_denton_housing.csv) contains statistics about housing in the city of Denton from 2008 to 2014. Write a program to implement the following questions.\n",
        "\n",
        "(1) (10 pts) Calculate the difference in the number of Occupied Housing Units from year to year and print it. The difference must be calculated for the consecutive years such as 2008-2009, 2009-2010 etc. Finally, print the values in the ascending order.\n",
        "\n",
        "(2) (10 pts) For all the years, calculate the percentage of housing units which are vacant an occupied. Print the results in the following format:\n",
        "\n",
        "Year Vacant Housing Units Occupied Housing Units\n",
        "\n",
        "    2008  30%   70%                          \n",
        "\t2009 ----- -----\n",
        "\t2010 ----- -----\n",
        "    2011 ----- -----\n",
        "\t2012 ----- -----\n",
        "    2013 ----- -----\n",
        "\t2014 ----- -----\n",
        "  \n",
        "  \n",
        "\n",
        "(3) (10 pts) Calculate and print the valued and years in which the highest number of housing units were vacant and occupied. Print the results in the following format:  \n",
        "\n",
        "                              Year\tValue\n",
        "\tVacant Housing Units\t  -----   -----\n",
        "\tOccupied Housing Units\t-----   -----\n",
        "\n",
        "(4) (10 pts) Calculate the harmonic mean of the total housing units and print it out. You can find the information about harmonic mean here: https://ncalculators.com/statistics/harmonic-mean-calculator.htm"
      ]
    },
    {
      "cell_type": "code",
      "source": [
        "#question1\n",
        "import pandas as pd\n",
        "\n",
        "df = pd.read_csv('Assignment1_denton_housing (1).csv')#change the file name to given file name....\n",
        "filtered_df = df[df['title_field']=='Occupied Housing Units'].sort_values(by=['year'])\n",
        "filtered_df['value'].diff().sort_values()\n"
      ],
      "metadata": {
        "colab": {
          "base_uri": "https://localhost:8080/"
        },
        "id": "k0Wm96kkWdt-",
        "outputId": "a3e3e593-ef18-4c32-abd6-42f70d7ae049"
      },
      "execution_count": null,
      "outputs": [
        {
          "output_type": "execute_result",
          "data": {
            "text/plain": [
              "17    -795.0\n",
              "11    -303.0\n",
              "8     1404.0\n",
              "5     1565.0\n",
              "2     2622.0\n",
              "14    5091.0\n",
              "20       NaN\n",
              "Name: value, dtype: float64"
            ]
          },
          "metadata": {},
          "execution_count": 20
        }
      ]
    },
    {
      "cell_type": "code",
      "source": [
        "#question2\n",
        "occupiedvalues_list = df[df['title_field']=='Occupied Housing Units'].sort_values(by=['year'])['value'].tolist()\n",
        "vacantvalues_list = df[df['title_field']=='Vacant Housing Units'].sort_values(by=['year'])['value'].tolist()\n",
        "total_values = df[df['title_field']=='Total Housing Units'].sort_values(by=['year'])['value'].tolist()\n",
        "percentage_of_occupied =  [str((i/j) * 100) + '%' for i, j in zip(list_of_occupied_values, list_of_total_values)]\n",
        "percentage_of_vacant =  [str((i/j) * 100) + '%' for i, j in zip(list_of_vacant_values, list_of_total_values)]\n",
        "result = pd.DataFrame (list(zip(df[df['title_field']=='Occupied Housing Units'].sort_values(by=['year'])['year'].tolist(),percentage_of_vacant,percentage_of_occupied)),columns=['Year','Vacant Housing Units','Occupied Housing Units'])\n",
        "result"
      ],
      "metadata": {
        "colab": {
          "base_uri": "https://localhost:8080/",
          "height": 269
        },
        "id": "NflxyOezWdks",
        "outputId": "6b63d71d-b1af-4c7e-8cd2-a1f5dac2d46a"
      },
      "execution_count": null,
      "outputs": [
        {
          "output_type": "execute_result",
          "data": {
            "text/html": [
              "\n",
              "  <div id=\"df-b6cab93f-eb63-47ce-9e99-a56e8baab6f6\">\n",
              "    <div class=\"colab-df-container\">\n",
              "      <div>\n",
              "<style scoped>\n",
              "    .dataframe tbody tr th:only-of-type {\n",
              "        vertical-align: middle;\n",
              "    }\n",
              "\n",
              "    .dataframe tbody tr th {\n",
              "        vertical-align: top;\n",
              "    }\n",
              "\n",
              "    .dataframe thead th {\n",
              "        text-align: right;\n",
              "    }\n",
              "</style>\n",
              "<table border=\"1\" class=\"dataframe\">\n",
              "  <thead>\n",
              "    <tr style=\"text-align: right;\">\n",
              "      <th></th>\n",
              "      <th>Year</th>\n",
              "      <th>Vacant Housing Units</th>\n",
              "      <th>Occupied Housing Units</th>\n",
              "    </tr>\n",
              "  </thead>\n",
              "  <tbody>\n",
              "    <tr>\n",
              "      <th>0</th>\n",
              "      <td>2008</td>\n",
              "      <td>10.88265281351653%</td>\n",
              "      <td>89.11734718648347%</td>\n",
              "    </tr>\n",
              "    <tr>\n",
              "      <th>1</th>\n",
              "      <td>2009</td>\n",
              "      <td>9.07111572444872%</td>\n",
              "      <td>90.92888427555128%</td>\n",
              "    </tr>\n",
              "    <tr>\n",
              "      <th>2</th>\n",
              "      <td>2010</td>\n",
              "      <td>8.142556337081672%</td>\n",
              "      <td>91.85744366291833%</td>\n",
              "    </tr>\n",
              "    <tr>\n",
              "      <th>3</th>\n",
              "      <td>2011</td>\n",
              "      <td>9.379522229890688%</td>\n",
              "      <td>90.6204777701093%</td>\n",
              "    </tr>\n",
              "    <tr>\n",
              "      <th>4</th>\n",
              "      <td>2012</td>\n",
              "      <td>6.677600230491346%</td>\n",
              "      <td>93.32239976950866%</td>\n",
              "    </tr>\n",
              "    <tr>\n",
              "      <th>5</th>\n",
              "      <td>2013</td>\n",
              "      <td>8.801787504176412%</td>\n",
              "      <td>91.19821249582358%</td>\n",
              "    </tr>\n",
              "    <tr>\n",
              "      <th>6</th>\n",
              "      <td>2014</td>\n",
              "      <td>5.730110570363885%</td>\n",
              "      <td>94.26988942963611%</td>\n",
              "    </tr>\n",
              "  </tbody>\n",
              "</table>\n",
              "</div>\n",
              "      <button class=\"colab-df-convert\" onclick=\"convertToInteractive('df-b6cab93f-eb63-47ce-9e99-a56e8baab6f6')\"\n",
              "              title=\"Convert this dataframe to an interactive table.\"\n",
              "              style=\"display:none;\">\n",
              "        \n",
              "  <svg xmlns=\"http://www.w3.org/2000/svg\" height=\"24px\"viewBox=\"0 0 24 24\"\n",
              "       width=\"24px\">\n",
              "    <path d=\"M0 0h24v24H0V0z\" fill=\"none\"/>\n",
              "    <path d=\"M18.56 5.44l.94 2.06.94-2.06 2.06-.94-2.06-.94-.94-2.06-.94 2.06-2.06.94zm-11 1L8.5 8.5l.94-2.06 2.06-.94-2.06-.94L8.5 2.5l-.94 2.06-2.06.94zm10 10l.94 2.06.94-2.06 2.06-.94-2.06-.94-.94-2.06-.94 2.06-2.06.94z\"/><path d=\"M17.41 7.96l-1.37-1.37c-.4-.4-.92-.59-1.43-.59-.52 0-1.04.2-1.43.59L10.3 9.45l-7.72 7.72c-.78.78-.78 2.05 0 2.83L4 21.41c.39.39.9.59 1.41.59.51 0 1.02-.2 1.41-.59l7.78-7.78 2.81-2.81c.8-.78.8-2.07 0-2.86zM5.41 20L4 18.59l7.72-7.72 1.47 1.35L5.41 20z\"/>\n",
              "  </svg>\n",
              "      </button>\n",
              "      \n",
              "  <style>\n",
              "    .colab-df-container {\n",
              "      display:flex;\n",
              "      flex-wrap:wrap;\n",
              "      gap: 12px;\n",
              "    }\n",
              "\n",
              "    .colab-df-convert {\n",
              "      background-color: #E8F0FE;\n",
              "      border: none;\n",
              "      border-radius: 50%;\n",
              "      cursor: pointer;\n",
              "      display: none;\n",
              "      fill: #1967D2;\n",
              "      height: 32px;\n",
              "      padding: 0 0 0 0;\n",
              "      width: 32px;\n",
              "    }\n",
              "\n",
              "    .colab-df-convert:hover {\n",
              "      background-color: #E2EBFA;\n",
              "      box-shadow: 0px 1px 2px rgba(60, 64, 67, 0.3), 0px 1px 3px 1px rgba(60, 64, 67, 0.15);\n",
              "      fill: #174EA6;\n",
              "    }\n",
              "\n",
              "    [theme=dark] .colab-df-convert {\n",
              "      background-color: #3B4455;\n",
              "      fill: #D2E3FC;\n",
              "    }\n",
              "\n",
              "    [theme=dark] .colab-df-convert:hover {\n",
              "      background-color: #434B5C;\n",
              "      box-shadow: 0px 1px 3px 1px rgba(0, 0, 0, 0.15);\n",
              "      filter: drop-shadow(0px 1px 2px rgba(0, 0, 0, 0.3));\n",
              "      fill: #FFFFFF;\n",
              "    }\n",
              "  </style>\n",
              "\n",
              "      <script>\n",
              "        const buttonEl =\n",
              "          document.querySelector('#df-b6cab93f-eb63-47ce-9e99-a56e8baab6f6 button.colab-df-convert');\n",
              "        buttonEl.style.display =\n",
              "          google.colab.kernel.accessAllowed ? 'block' : 'none';\n",
              "\n",
              "        async function convertToInteractive(key) {\n",
              "          const element = document.querySelector('#df-b6cab93f-eb63-47ce-9e99-a56e8baab6f6');\n",
              "          const dataTable =\n",
              "            await google.colab.kernel.invokeFunction('convertToInteractive',\n",
              "                                                     [key], {});\n",
              "          if (!dataTable) return;\n",
              "\n",
              "          const docLinkHtml = 'Like what you see? Visit the ' +\n",
              "            '<a target=\"_blank\" href=https://colab.research.google.com/notebooks/data_table.ipynb>data table notebook</a>'\n",
              "            + ' to learn more about interactive tables.';\n",
              "          element.innerHTML = '';\n",
              "          dataTable['output_type'] = 'display_data';\n",
              "          await google.colab.output.renderOutput(dataTable, element);\n",
              "          const docLink = document.createElement('div');\n",
              "          docLink.innerHTML = docLinkHtml;\n",
              "          element.appendChild(docLink);\n",
              "        }\n",
              "      </script>\n",
              "    </div>\n",
              "  </div>\n",
              "  "
            ],
            "text/plain": [
              "   Year Vacant Housing Units Occupied Housing Units\n",
              "0  2008   10.88265281351653%     89.11734718648347%\n",
              "1  2009    9.07111572444872%     90.92888427555128%\n",
              "2  2010   8.142556337081672%     91.85744366291833%\n",
              "3  2011   9.379522229890688%      90.6204777701093%\n",
              "4  2012   6.677600230491346%     93.32239976950866%\n",
              "5  2013   8.801787504176412%     91.19821249582358%\n",
              "6  2014   5.730110570363885%     94.26988942963611%"
            ]
          },
          "metadata": {},
          "execution_count": 24
        }
      ]
    },
    {
      "cell_type": "code",
      "source": [
        "#question3\n",
        "df_occupied_values = df[df['title_field']=='Occupied Housing Units']\n",
        "df_vacant_values = df[df['title_field']=='Vacant Housing Units']\n",
        "occupied_max = df_occupied_values[df_occupied_values['value']==df_occupied_values[\"value\"].max()]\n",
        "vacant_max = df_vacant_values[df_vacant_values['value']==df_vacant_values[\"value\"].max()]\n",
        "contact_df = pd.concat([occupied_max, vacant_max])\n",
        "print(contact_df[['title_field','year','value']])"
      ],
      "metadata": {
        "colab": {
          "base_uri": "https://localhost:8080/"
        },
        "id": "uVNjuTtDWc5U",
        "outputId": "efb04cc4-c362-480d-f8da-a00784d1bc68"
      },
      "execution_count": null,
      "outputs": [
        {
          "output_type": "stream",
          "name": "stdout",
          "text": [
            "               title_field  year  value\n",
            "2   Occupied Housing Units  2014  46295\n",
            "19    Vacant Housing Units  2008   4483\n"
          ]
        }
      ]
    },
    {
      "cell_type": "code",
      "execution_count": null,
      "metadata": {
        "colab": {
          "base_uri": "https://localhost:8080/"
        },
        "id": "lqGYuHBhcsRH",
        "outputId": "2f0ddbd1-4dea-4aa4-b013-a0b48f5ba272"
      },
      "outputs": [
        {
          "output_type": "execute_result",
          "data": {
            "text/plain": [
              "44398.28543969185"
            ]
          },
          "metadata": {},
          "execution_count": 28
        }
      ],
      "source": [
        "# Your code here\n",
        "#question4\n",
        "from scipy.stats import hmean\n",
        "hmean(total_values)\n",
        "\n"
      ]
    }
  ],
  "metadata": {
    "colab": {
      "collapsed_sections": [],
      "name": "INFO5731_Assignment_One_(1).ipynb",
      "provenance": [],
      "include_colab_link": true
    },
    "kernelspec": {
      "display_name": "Python 3",
      "language": "python",
      "name": "python3"
    },
    "language_info": {
      "codemirror_mode": {
        "name": "ipython",
        "version": 3
      },
      "file_extension": ".py",
      "mimetype": "text/x-python",
      "name": "python",
      "nbconvert_exporter": "python",
      "pygments_lexer": "ipython3",
      "version": "3.8.5"
    }
  },
  "nbformat": 4,
  "nbformat_minor": 0
}